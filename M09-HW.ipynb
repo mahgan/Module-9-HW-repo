{
 "cells": [
  {
   "cell_type": "markdown",
   "id": "bbea800c-241d-42b4-a744-ecaffe13959e",
   "metadata": {},
   "source": [
    "# Metadata\n",
    "\n",
    "```yaml\n",
    "Course:  DS 5100\n",
    "Module:  09 Python Packages\n",
    "Topic:   HW Package Booklover\n",
    "Author:  R.C. Alvarado (adapted)\n",
    "Date:    7 July 2023 (revised)\n",
    "```"
   ]
  },
  {
   "cell_type": "markdown",
   "id": "36f46fdd-2405-4dc8-9ea1-33f395e56cc0",
   "metadata": {},
   "source": [
    "# Student Info\n",
    "\n",
    "* Name:  Mahin Ganesan\n",
    "* Net UD: mg4ccz\n",
    "* URL of this file in GitHub:"
   ]
  },
  {
   "cell_type": "markdown",
   "id": "375875a8-1503-46eb-8ea1-7e5bf39b5c41",
   "metadata": {},
   "source": [
    "# Instructions\n",
    "\n",
    "In your **private course repo on Rivanna**, use this Jupyter notebook and the data file described to write code that performs the tasks below. \n",
    "\n",
    "Save your notebook in the `M09` directory.\n",
    "\n",
    "Remember to add and commit these files to your repo. \n",
    "\n",
    "Then push your commits to your repo on GitHib.\n",
    "\n",
    "Be sure to fill out the **Student Info** block above.\n",
    "\n",
    "To submit your homework, save your results as a PDF and upload it to GradeScope. More information about how to create the PDF for this assignment are included at the end of this document.\n",
    "\n",
    "**TOTAL POINTS: 8**"
   ]
  },
  {
   "cell_type": "markdown",
   "id": "1baf08dc-35fe-44f1-bc26-7e1130ee993e",
   "metadata": {},
   "source": [
    "# Overview\n",
    "\n",
    "Follow the following recipe we used in class to package the code you wrote for `HW08` -- `booklover.py` and `booklover_test.py`.\n",
    "\n",
    "* Create a new git repo for your package.\n",
    "* Create and edit the required files and directories for your package and move the booklover modules there.\n",
    "* Stage, commit, and push all the files you've created.\n",
    "* Install your package with pip.\n",
    "* Outside of your package dir, write a script to test your method.\n",
    "\n",
    "Put this notebook in your repo. This will allow you to execute bash commands and capture the outpunt directly in the notebook.\n",
    "\n",
    "**TOTAL: 8 POINTS**"
   ]
  },
  {
   "cell_type": "markdown",
   "id": "6e39ba79-49ee-41e8-9e49-23d9d6bac2e0",
   "metadata": {
    "tags": []
   },
   "source": [
    "# Tasks"
   ]
  },
  {
   "cell_type": "markdown",
   "id": "fb11de14",
   "metadata": {},
   "source": [
    "## Task 1\n",
    "\n",
    "(5 points)\n",
    "\n",
    "Show the directory structure of your repo by running this command from the root of your repo:"
   ]
  },
  {
   "cell_type": "code",
   "execution_count": null,
   "id": "7e6c6607",
   "metadata": {},
   "outputs": [],
   "source": [
    "!ls -lR"
   ]
  },
  {
   "cell_type": "markdown",
   "id": "caddab9b",
   "metadata": {},
   "source": [
    "\n",
    "total 16\n",
    "\n",
    "drwxr-sr-x 2 mg4ccz users 1536 Oct 29 12:20 booklover\n",
    "\n",
    "-rw-r--r-- 1 mg4ccz users 1063 Oct 28 18:37 LICENSE\n",
    "\n",
    "-rw-r--r-- 1 mg4ccz users   18 Oct 28 18:37 README.md\n",
    "\n",
    "-rw-r--r-- 1 mg4ccz users  432 Oct 29 12:38 setup.py\n",
    "\n",
    "./booklover:\n",
    "\n",
    "total 20\n",
    "\n",
    "-rw-r--r-- 1 mg4ccz users 1506 Oct 22 13:17 booklover.py\n",
    "\n",
    "-rw-r--r-- 1 mg4ccz users 2427 Oct 22 13:17 booklover_test.py\n",
    "\n",
    "-rw-r--r-- 1 mg4ccz users    0 Oct 29 12:03 __init__.py"
   ]
  },
  {
   "cell_type": "markdown",
   "id": "6b6f288b-05aa-441b-8c73-84b50b3b6844",
   "metadata": {},
   "source": [
    "## Task 2\n",
    "\n",
    "(1 point)\n",
    "\n",
    "Put the URL of your GitHub repo here. Just paste it into a Markdown cell."
   ]
  },
  {
   "cell_type": "markdown",
   "id": "4d09d889-6104-4f20-b31c-2d8a72b17693",
   "metadata": {},
   "source": [
    "URL: https://github.com/mahgan/Module-9-HW-repo/tree/main"
   ]
  },
  {
   "cell_type": "markdown",
   "id": "f989dcd1-b1d2-4eb9-8ef6-8ca2d8495260",
   "metadata": {
    "lines_to_next_cell": 0
   },
   "source": [
    "## Task 3\n",
    "\n",
    "(1 point)\n",
    "\n",
    "Show the results of installing your package.\n",
    "\n",
    "```bash\n",
    "!pip install -e .\n",
    "```"
   ]
  },
  {
   "cell_type": "markdown",
   "id": "358d3a2b",
   "metadata": {},
   "source": [
    "Defaulting to user installation because normal site-packages is not writeable\n",
    "\n",
    "Processing /sfs/qumulo/qhome/mg4ccz/DS5100/Documents/MSDS/DS5100/Module-9-HW-repo\n",
    "\n",
    "Collecting pandas\n",
    "\n",
    "  Downloading pandas-0.24.2-cp27-cp27mu-manylinux1_x86_64.whl (10.1 MB)\n",
    "\n",
    "     |████████████████████████████████| 10.1 MB 2.3 MB/s \n",
    "\n",
    "Collecting numpy>=1.12.0\n",
    "\n",
    "  Downloading numpy-1.16.6-cp27-cp27mu-manylinux1_x86_64.whl (17.0 MB)\n",
    "\n",
    "     |████████████████████████████████| 17.0 MB 72.8 MB/s \n",
    "\n",
    "Collecting python-dateutil>=2.5.0\n",
    "\n",
    "  Downloading python_dateutil-2.8.2-py2.py3-none-any.whl (247 kB)\n",
    "\n",
    "     |████████████████████████████████| 247 kB 70.1 MB/s \n",
    "\n",
    "Requirement already satisfied: pytz>=2011k in /usr/lib/python2.7/site-packages (from pandas->booklover==1.0.0) (2016.10)\n",
    "\n",
    "Requirement already satisfied: six>=1.5 in /usr/lib/python2.7/site-packages (from python-dateutil>=2.5.0->pandas->booklover==1.0.0) (1.9.0)\n",
    "\n",
    "Building wheels for collected packages: booklover\n",
    "\n",
    "  Building wheel for booklover (setup.py) ... done\n",
    "\n",
    "  Created wheel for booklover: filename=booklover-1.0.0-py2-none-any.whl size=3737 \n",
    "  sha256=02d4ed7027c7a61350d9c6fcc96c61fa4508eb75f4860685e82db34281a728\n",
    "\n",
    "91\n",
    "\n",
    "  Stored in directory: /sfs/qumulo/qhome/mg4ccz/.cache/pip/wheels/6d/51/ec/af005735f951016d7b2515b2a7b0bdbb7a399fd19ca41d6787\n",
    "\n",
    "Successfully built booklover\n",
    "\n",
    "Installing collected packages: numpy, python-dateutil, pandas, booklover\n",
    "\n",
    "  WARNING: The scripts f2py, f2py2 and f2py2.7 are installed in '/home/mg4ccz/.local/bin' which is not on PATH.\n",
    "\n",
    "  Consider adding this directory to PATH or, if you prefer to suppress this warning, use --no-warn-script-location.\n",
    "  \n",
    "Successfully installed booklover-1.0.0 numpy-1.16.6 pandas-0.24.2 python-dateutil-2.8.2"
   ]
  },
  {
   "cell_type": "markdown",
   "id": "5b1a642e-74f0-43ff-97a3-9ddc7553978e",
   "metadata": {},
   "source": [
    "## Task 4\n",
    "\n",
    "(1 point)\n",
    "\n",
    "Create a file outside your repo to test your package by running it.\n",
    "\n",
    "To do this, import the package into your file and create a BookLover object.\n",
    "\n",
    "Then add a book and then print number books read.\n",
    "\n",
    "Then run the file. \n",
    "\n",
    "Show the output of running the file below, using a command like the following:\n",
    "\n",
    "```bash\n",
    "!python ../book_lover_demo.py\n",
    "```"
   ]
  },
  {
   "cell_type": "markdown",
   "id": "b5d7cdfd",
   "metadata": {},
   "source": [
    "bash-4.2$!python ../booklover_demo.py\n",
    "\n",
    "python booklover_demo.py booklover_demo.py ../booklover_demo.py\n",
    "\n",
    "Number of books read: 1"
   ]
  }
 ],
 "metadata": {
  "jupytext": {
   "cell_metadata_filter": "-all",
   "main_language": "bash",
   "notebook_metadata_filter": "-all"
  },
  "kernelspec": {
   "display_name": "Python 3 (ipykernel)",
   "language": "python",
   "name": "python3"
  },
  "language_info": {
   "codemirror_mode": {
    "name": "ipython",
    "version": 3
   },
   "file_extension": ".py",
   "mimetype": "text/x-python",
   "name": "python",
   "nbconvert_exporter": "python",
   "pygments_lexer": "ipython3",
   "version": "3.8.16"
  },
  "vscode": {
   "interpreter": {
    "hash": "c3b963de08c47c3b6758389c5e0978ad73698a111eb508d4e16b558edb8f4cbf"
   }
  },
  "widgets": {
   "application/vnd.jupyter.widget-state+json": {
    "state": {},
    "version_major": 2,
    "version_minor": 0
   }
  }
 },
 "nbformat": 4,
 "nbformat_minor": 5
}
